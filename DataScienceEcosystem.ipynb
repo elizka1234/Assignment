{
 "cells": [
  {
   "cell_type": "markdown",
   "id": "bc41cb96-da6a-4703-85ab-33401e7d7ae3",
   "metadata": {},
   "source": [
    " <h1>Data Science Tools and Ecosystem<h1>"
   ]
  },
  {
   "cell_type": "markdown",
   "id": "586e598f-b034-44cb-bc0e-ccace127d871",
   "metadata": {},
   "source": [
    "In this notebook, Data Science Tools and Ecosystem are summarized."
   ]
  },
  {
   "cell_type": "markdown",
   "id": "08b614be-7274-4b57-b89a-85391f91d9c6",
   "metadata": {},
   "source": [
    "**Objectives:**\n"
   ]
  },
  {
   "cell_type": "markdown",
   "id": "dc812109-fd5b-40f5-a7b2-34caacf2149a",
   "metadata": {},
   "source": [
    "- List popular languages for Data Science\n",
    "- List common libraries used by Data Scientists\n",
    "- List common dara science tools\n",
    "- practice using markdowns\n",
    "\n",
    "## Author\n",
    "Eliza "
   ]
  },
  {
   "cell_type": "markdown",
   "id": "76a884ab-5751-4631-9555-9293f7b2a1c0",
   "metadata": {},
   "source": [
    "Some of the popular languages that Data Scientists use are:"
   ]
  },
  {
   "cell_type": "markdown",
   "id": "5601caf8-ef17-4046-9b00-a7c240ee7920",
   "metadata": {},
   "source": [
    "### Ordered list "
   ]
  },
  {
   "cell_type": "markdown",
   "id": "1cbb0853-d12b-4847-a55e-bb925a066b14",
   "metadata": {},
   "source": [
    "1. Python\n",
    "2. R\n",
    "3. SQL"
   ]
  },
  {
   "cell_type": "markdown",
   "id": "bf54ddf7-ec6c-4a38-9ce7-30731b4db496",
   "metadata": {},
   "source": [
    "Some of the commonly used libraries used by Data Scientists include:"
   ]
  },
  {
   "cell_type": "markdown",
   "id": "ae723774-73c2-4b1e-9237-722f804ab569",
   "metadata": {},
   "source": [
    "1. NumPy\n",
    "2. Pandas\n",
    "3. Scikit-learn"
   ]
  },
  {
   "cell_type": "markdown",
   "id": "16b07a43-e118-466b-9c8e-979d229ff90b",
   "metadata": {},
   "source": [
    "|Data Science Tools|\n",
    "|--------------------|\n",
    "|Python|\n",
    "|R| \n",
    "|Jupyter Notebooks|"
   ]
  },
  {
   "cell_type": "markdown",
   "id": "cb5a6da0-2dd6-45b3-82e6-acd2a890fe6c",
   "metadata": {},
   "source": [
    "### Below are a few examples of evaluating arithmetic expressions in Python.\n"
   ]
  },
  {
   "cell_type": "code",
   "execution_count": 13,
   "id": "63fa8a41-6e0a-4160-9bf0-4c21ced7bbab",
   "metadata": {},
   "outputs": [
    {
     "name": "stdout",
     "output_type": "stream",
     "text": [
      "17\n"
     ]
    }
   ],
   "source": [
    "# This a simple arithmetic expression to mutiply then add integers.\n",
    "result = (3 * 4) + 5\n",
    "print(result)\n"
   ]
  },
  {
   "cell_type": "code",
   "execution_count": 16,
   "id": "e0f1e24c-402a-4456-bddf-87ff52ae988a",
   "metadata": {},
   "outputs": [
    {
     "name": "stdout",
     "output_type": "stream",
     "text": [
      "3\n"
     ]
    }
   ],
   "source": [
    "# This will convert 200 minutes to hours by diving by 60.\n",
    "result = 200/60\n",
    "import math \n",
    "print(math.floor(result))\n"
   ]
  }
 ],
 "metadata": {
  "kernelspec": {
   "display_name": "Python 3 (ipykernel)",
   "language": "python",
   "name": "python3"
  },
  "language_info": {
   "codemirror_mode": {
    "name": "ipython",
    "version": 3
   },
   "file_extension": ".py",
   "mimetype": "text/x-python",
   "name": "python",
   "nbconvert_exporter": "python",
   "pygments_lexer": "ipython3",
   "version": "3.12.7"
  }
 },
 "nbformat": 4,
 "nbformat_minor": 5
}
